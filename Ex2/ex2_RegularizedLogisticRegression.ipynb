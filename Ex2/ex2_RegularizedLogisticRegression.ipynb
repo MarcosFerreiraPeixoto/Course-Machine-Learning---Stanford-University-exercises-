{
 "cells": [
  {
   "cell_type": "markdown",
   "metadata": {},
   "source": [
    "<h1>Regularized Logistic Regression</h1>"
   ]
  },
  {
   "cell_type": "markdown",
   "metadata": {},
   "source": [
    "Importing Libraries"
   ]
  },
  {
   "cell_type": "code",
   "execution_count": 137,
   "metadata": {},
   "outputs": [],
   "source": [
    "import matplotlib.pyplot as plt\n",
    "import numpy as np"
   ]
  },
  {
   "cell_type": "markdown",
   "metadata": {},
   "source": [
    "Creating the Data Nomalization Function"
   ]
  },
  {
   "cell_type": "code",
   "execution_count": 138,
   "metadata": {},
   "outputs": [],
   "source": [
    "def data_normalization (dataset):\n",
    "    columns_mean = []\n",
    "    columns_std = []\n",
    "\n",
    "    dataset = np.transpose(dataset)\n",
    "        \n",
    "    for i in range(len(dataset)-1):\n",
    "        columns_std.append(np.std(dataset[i]))\n",
    "        columns_mean.append(np.mean(dataset[i]))\n",
    "\n",
    "        dataset[i] = dataset[i] - columns_mean[i]\n",
    "        dataset[i] = dataset[i] * (1/columns_std[i])\n",
    "        \n",
    "    dataset = np.transpose(dataset)\n",
    "    \n",
    "    return dataset, columns_mean, columns_std"
   ]
  },
  {
   "cell_type": "markdown",
   "metadata": {},
   "source": [
    "Entering and formating the Data"
   ]
  },
  {
   "cell_type": "code",
   "execution_count": 139,
   "metadata": {},
   "outputs": [],
   "source": [
    "dataset_grades_acceptance = [[0.051267,0.69956,1],\n",
    "[-0.092742,0.68494,1],\n",
    "[-0.21371,0.69225,1],\n",
    "[-0.375,0.50219,1],\n",
    "[-0.51325,0.46564,1],\n",
    "[-0.52477,0.2098,1],\n",
    "[-0.39804,0.034357,1],\n",
    "[-0.30588,-0.19225,1],\n",
    "[0.016705,-0.40424,1],\n",
    "[0.13191,-0.51389,1],\n",
    "[0.38537,-0.56506,1],\n",
    "[0.52938,-0.5212,1],\n",
    "[0.63882,-0.24342,1],\n",
    "[0.73675,-0.18494,1],\n",
    "[0.54666,0.48757,1],\n",
    "[0.322,0.5826,1],\n",
    "[0.16647,0.53874,1],\n",
    "[-0.046659,0.81652,1],\n",
    "[-0.17339,0.69956,1],\n",
    "[-0.47869,0.63377,1],\n",
    "[-0.60541,0.59722,1],\n",
    "[-0.62846,0.33406,1],\n",
    "[-0.59389,0.005117,1],\n",
    "[-0.42108,-0.27266,1],\n",
    "[-0.11578,-0.39693,1],\n",
    "[0.20104,-0.60161,1],\n",
    "[0.46601,-0.53582,1],\n",
    "[0.67339,-0.53582,1],\n",
    "[-0.13882,0.54605,1],\n",
    "[-0.29435,0.77997,1],\n",
    "[-0.26555,0.96272,1],\n",
    "[-0.16187,0.8019,1],\n",
    "[-0.17339,0.64839,1],\n",
    "[-0.28283,0.47295,1],\n",
    "[-0.36348,0.31213,1],\n",
    "[-0.30012,0.027047,1],\n",
    "[-0.23675,-0.21418,1],\n",
    "[-0.06394,-0.18494,1],\n",
    "[0.062788,-0.16301,1],\n",
    "[0.22984,-0.41155,1],\n",
    "[0.2932,-0.2288,1],\n",
    "[0.48329,-0.18494,1],\n",
    "[0.64459,-0.14108,1],\n",
    "[0.46025,0.012427,1],\n",
    "[0.6273,0.15863,1],\n",
    "[0.57546,0.26827,1],\n",
    "[0.72523,0.44371,1],\n",
    "[0.22408,0.52412,1],\n",
    "[0.44297,0.67032,1],\n",
    "[0.322,0.69225,1],\n",
    "[0.13767,0.57529,1],\n",
    "[-0.0063364,0.39985,1],\n",
    "[-0.092742,0.55336,1],\n",
    "[-0.20795,0.35599,1],\n",
    "[-0.20795,0.17325,1],\n",
    "[-0.43836,0.21711,1],\n",
    "[-0.21947,-0.016813,1],\n",
    "[-0.13882,-0.27266,1],\n",
    "[0.18376,0.93348,0],\n",
    "[0.22408,0.77997,0],\n",
    "[0.29896,0.61915,0],\n",
    "[0.50634,0.75804,0],\n",
    "[0.61578,0.7288,0],\n",
    "[0.60426,0.59722,0],\n",
    "[0.76555,0.50219,0],\n",
    "[0.92684,0.3633,0],\n",
    "[0.82316,0.27558,0],\n",
    "[0.96141,0.085526,0],\n",
    "[0.93836,0.012427,0],\n",
    "[0.86348,-0.082602,0],\n",
    "[0.89804,-0.20687,0],\n",
    "[0.85196,-0.36769,0],\n",
    "[0.82892,-0.5212,0],\n",
    "[0.79435,-0.55775,0],\n",
    "[0.59274,-0.7405,0],\n",
    "[0.51786,-0.5943,0],\n",
    "[0.46601,-0.41886,0],\n",
    "[0.35081,-0.57968,0],\n",
    "[0.28744,-0.76974,0],\n",
    "[0.085829,-0.75512,0],\n",
    "[0.14919,-0.57968,0],\n",
    "[-0.13306,-0.4481,0],\n",
    "[-0.40956,-0.41155,0],\n",
    "[-0.39228,-0.25804,0],\n",
    "[-0.74366,-0.25804,0],\n",
    "[-0.69758,0.041667,0],\n",
    "[-0.75518,0.2902,0],\n",
    "[-0.69758,0.68494,0],\n",
    "[-0.4038,0.70687,0],\n",
    "[-0.38076,0.91886,0],\n",
    "[-0.50749,0.90424,0],\n",
    "[-0.54781,0.70687,0],\n",
    "[0.10311,0.77997,0],\n",
    "[0.057028,0.91886,0],\n",
    "[-0.10426,0.99196,0],\n",
    "[-0.081221,1.1089,0],\n",
    "[0.28744,1.087,0],\n",
    "[0.39689,0.82383,0],\n",
    "[0.63882,0.88962,0],\n",
    "[0.82316,0.66301,0],\n",
    "[0.67339,0.64108,0],\n",
    "[1.0709,0.10015,0],\n",
    "[-0.046659,-0.57968,0],\n",
    "[-0.23675,-0.63816,0],\n",
    "[-0.15035,-0.36769,0],\n",
    "[-0.49021,-0.3019,0],\n",
    "[-0.46717,-0.13377,0],\n",
    "[-0.28859,-0.060673,0],\n",
    "[-0.61118,-0.067982,0],\n",
    "[-0.66302,-0.21418,0],\n",
    "[-0.59965,-0.41886,0],\n",
    "[-0.72638,-0.082602,0],\n",
    "[-0.83007,0.31213,0],\n",
    "[-0.72062,0.53874,0],\n",
    "[-0.59389,0.49488,0],\n",
    "[-0.48445,0.99927,0],\n",
    "[-0.0063364,0.99927,0],\n",
    "[0.63265,-0.030612,0]]\n",
    "\n",
    "\n",
    "#dataset_grades_acceptance, columns_mean, columns_std = data_normalization(dataset_grades_acceptance) #Normalizing the data and recording the mean and standart deviating for each column\n",
    "dataset_grades_acceptance = np.insert(dataset_grades_acceptance, 0, 1, axis = 1) #Add a column of ones to the dataset\n",
    "x = dataset_grades_acceptance[0:,0:3]\n",
    "y = dataset_grades_acceptance[0:,3:4]"
   ]
  },
  {
   "cell_type": "markdown",
   "metadata": {},
   "source": [
    "Plotting the Data"
   ]
  },
  {
   "cell_type": "code",
   "execution_count": 140,
   "metadata": {},
   "outputs": [
    {
     "data": {
      "image/png": "[encoded data removed]",
      "text/plain": [
       "<Figure size 432x288 with 1 Axes>"
      ]
     },
     "metadata": {
      "needs_background": "light"
     },
     "output_type": "display_data"
    }
   ],
   "source": [
    "grade1_admitted = np.array([linha for linha in dataset_grades_acceptance if linha[3] == 1])[0:,1:2]\n",
    "grade2_admitted = np.array([linha for linha in dataset_grades_acceptance if linha[3] == 1])[0:,2:3]\n",
    "\n",
    "grade1_not_admitted = np.array([linha for linha in dataset_grades_acceptance if linha[3] == 0])[0:,1:2]\n",
    "grade2_not_admitted = np.array([linha for linha in dataset_grades_acceptance if linha[3] == 0])[0:,2:3]\n",
    "\n",
    "plt.scatter(grade1_admitted,grade2_admitted, marker = '+',color = 'black')\n",
    "plt.scatter(grade1_not_admitted,grade2_not_admitted, color = 'y')\n",
    "plt.legend(['Admitted','Not admitted'],loc = 1)\n",
    "\n",
    "plt.xlabel(\"Exam 1 score\")\n",
    "plt.ylabel(\"Exam 2 score\")\n",
    "plt.title(\"Figure 1: Scatter plot of training data\")\n",
    "\n",
    "plt.show()"
   ]
  },
  {
   "cell_type": "markdown",
   "metadata": {},
   "source": [
    "Creating the Map Feature Function, the Sigmoid Function, the Cost Function and Linear Gradient Discent function for more than one variable"
   ]
  },
  {
   "cell_type": "code",
   "execution_count": 141,
   "metadata": {},
   "outputs": [],
   "source": [
    "def map_feature (x1, x2, degree):   \n",
    "    x_values = np.ones((x1.shape[0], sum(range(degree + 2))))\n",
    "    current = 1\n",
    "    for i in range(1, degree + 1):\n",
    "        for j in range(i+1):\n",
    "            x_values[:,current] = np.power(x1,i-j) * np.power(x2,j)\n",
    "            current += 1\n",
    "\n",
    "    return x_values\n",
    "\n",
    "def computes_sigmoid_function (z):\n",
    "    sigmoid_function = 1 / (1 + np.exp(-z))\n",
    "    return sigmoid_function\n",
    "    \n",
    "def computes_cost_function (x, y, theta, lamb):\n",
    "    m = len(x)\n",
    "\n",
    "    predicted_y = computes_sigmoid_function(np.matmul(x, theta))\n",
    "\n",
    "    regularization_param = (lamb/(2*m)) * (theta.T.dot(theta))\n",
    "    cost_function = ((1/ m) * ((-y).T.dot(np.log(predicted_y)) - (1 - y).T.dot(np.log(1 - predicted_y)))) + regularization_param\n",
    "    return cost_function[0][0]\n",
    "\n",
    "def computes_linear_gradient_discent (x, y, theta, iterations, alpha, lamb):\n",
    "    m = len(x)\n",
    "    cost_function = []\n",
    "\n",
    "    for _ in range(iterations):\n",
    "        \n",
    "        predicted_y = computes_sigmoid_function(np.matmul(x, theta))\n",
    "        \n",
    "        theta[0][0] = theta[0][0] - alpha * (1 / m) * np.sum(predicted_y - y)\n",
    "        \n",
    "        for i in range(1,len(theta)):\n",
    "            #regularization_param = (lamb/m) * theta[i][0]\n",
    "            theta[i][0] = theta[i][0]*(1 - alpha*(lamb/m)) - alpha * (1 / m) * x[0:,i:(1+i)].T.dot(predicted_y - y)\n",
    "        cost_function.append(computes_cost_function(x, y, theta, lamb))\n",
    "\n",
    "    return theta, cost_function"
   ]
  },
  {
   "cell_type": "code",
   "execution_count": 142,
   "metadata": {},
   "outputs": [],
   "source": [
    "x = map_feature(x[:,1], x[:,2], 6)"
   ]
  },
  {
   "cell_type": "markdown",
   "metadata": {},
   "source": [
    "Calculating Theta and plotting the Cost Funtion over the iterations"
   ]
  },
  {
   "cell_type": "code",
   "execution_count": 161,
   "metadata": {},
   "outputs": [
    {
     "data": {
      "text/plain": [
       "[<matplotlib.lines.Line2D at 0x1408af10>]"
      ]
     },
     "execution_count": 161,
     "metadata": {},
     "output_type": "execute_result"
    },
    {
     "data": {
      "image/png": "[encoded data removed]",
      "text/plain": [
       "<Figure size 432x288 with 1 Axes>"
      ]
     },
     "metadata": {
      "needs_background": "light"
     },
     "output_type": "display_data"
    }
   ],
   "source": [
    "iterations = 3000\n",
    "alpha = 0.1\n",
    "theta = np.zeros((28,1))\n",
    "lamb = 1\n",
    "\n",
    "theta, cost_function = computes_linear_gradient_discent(x, y, theta, iterations, alpha, lamb)\n",
    "\n",
    "plt.plot(cost_function)"
   ]
  },
  {
   "cell_type": "markdown",
   "metadata": {},
   "source": [
    "Plotting our final prediction"
   ]
  },
  {
   "cell_type": "code",
   "execution_count": 182,
   "metadata": {},
   "outputs": [
    {
     "name": "stderr",
     "output_type": "stream",
     "text": [
      "C:\\Users\\MARCOS~1\\AppData\\Local\\Temp/ipykernel_7212/3539451086.py:31: UserWarning: The following kwargs were not used by contour: 'linewidth'\n",
      "  p3 = plt.contour(u, v, z, levels=[0], linewidth=2, colors = 'lime')\n"
     ]
    },
    {
     "data": {
      "image/png": "[encoded data removed]",
      "text/plain": [
       "<Figure size 432x288 with 1 Axes>"
      ]
     },
     "metadata": {
      "needs_background": "light"
     },
     "output_type": "display_data"
    }
   ],
   "source": [
    "#Ploting ou data and our decision boundary\n",
    "grade1_admitted = np.array([linha for linha in dataset_grades_acceptance if linha[3] == 1])[0:,1:2]\n",
    "grade2_admitted = np.array([linha for linha in dataset_grades_acceptance if linha[3] == 1])[0:,2:3]\n",
    "\n",
    "grade1_not_admitted = np.array([linha for linha in dataset_grades_acceptance if linha[3] == 0])[0:,1:2]\n",
    "grade2_not_admitted = np.array([linha for linha in dataset_grades_acceptance if linha[3] == 0])[0:,2:3]\n",
    "\n",
    "plt.scatter(grade1_admitted,grade2_admitted, marker = '+',color = 'black')\n",
    "plt.scatter(grade1_not_admitted,grade2_not_admitted, color = 'y')\n",
    "\n",
    "plt.legend(['Admitted','Not admitted'],loc = 1)\n",
    "\n",
    "plt.xlabel(\"Exam 1 score\")\n",
    "plt.ylabel(\"Exam 2 score\")\n",
    "plt.title(\"Figure 1: Scatter plot of training data\")\n",
    "\n",
    "# Here is the grid range\n",
    "u = np.linspace(-1, 1.5, 100)\n",
    "v = np.linspace(-0.8, 1.2, 100)\n",
    "\n",
    "z = np.zeros((len(u), len(v)))\n",
    "# Evaluate z = theta*x over the grid\n",
    "for i in range(len(u)):\n",
    "    for j in range(len(v)):\n",
    "        z[i][j] = np.dot(map_feature(np.array([u[i]]), np.array([v[j]]), 6),theta)\n",
    "z = z.T # important to transpose z before calling contour\n",
    "\n",
    "# Plot z = 0\n",
    "# Notice you need to specify the level 0\n",
    "# we get collections[0] so that we can display a legend properly\n",
    "p3 = plt.contour(u, v, z, levels=[0], linewidth=2, colors = 'lime')\n",
    "        \n",
    "# Legend, specific for the exercise\n",
    "#lt.legend((p3),('y = 1', 'y = 0', 'Decision Boundary'), numpoints=1, handlelength=0)\n",
    "\n",
    "plt.show()"
   ]
  }
 ],
 "metadata": {
  "interpreter": {
   "hash": "a23c8859640bc1fbc613091da76fbf96a069fd467f295e7bb8213e839167d67d"
  },
  "kernelspec": {
   "display_name": "Python 3.8.10 64-bit",
   "language": "python",
   "name": "python3"
  },
  "language_info": {
   "codemirror_mode": {
    "name": "ipython",
    "version": 3
   },
   "file_extension": ".py",
   "mimetype": "text/x-python",
   "name": "python",
   "nbconvert_exporter": "python",
   "pygments_lexer": "ipython3",
   "version": "3.8.10"
  },
  "orig_nbformat": 4
 },
 "nbformat": 4,
 "nbformat_minor": 2
}
