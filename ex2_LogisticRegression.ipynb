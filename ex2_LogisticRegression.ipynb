{
 "cells": [
  {
   "cell_type": "markdown",
   "metadata": {},
   "source": [
    "<h1>Logistic Regression</h1>"
   ]
  },
  {
   "cell_type": "markdown",
   "metadata": {},
   "source": [
    "Importing Libraries"
   ]
  },
  {
   "cell_type": "code",
   "execution_count": 1,
   "metadata": {},
   "outputs": [],
   "source": [
    "import matplotlib.pyplot as plt\n",
    "import numpy as np"
   ]
  },
  {
   "cell_type": "markdown",
   "metadata": {},
   "source": [
    "Creating the Data Nomalization Function"
   ]
  },
  {
   "cell_type": "code",
   "execution_count": 2,
   "metadata": {},
   "outputs": [],
   "source": [
    "def data_normalization (dataset):\n",
    "    columns_mean = []\n",
    "    columns_std = []\n",
    "\n",
    "    dataset = np.transpose(dataset)\n",
    "        \n",
    "    for i in range(len(dataset)-1):\n",
    "        columns_std.append(np.std(dataset[i]))\n",
    "        columns_mean.append(np.mean(dataset[i]))\n",
    "\n",
    "        dataset[i] = dataset[i] - columns_mean[i]\n",
    "        dataset[i] = dataset[i] * (1/columns_std[i])\n",
    "        \n",
    "    dataset = np.transpose(dataset)\n",
    "    \n",
    "    return dataset, columns_mean, columns_std"
   ]
  },
  {
   "cell_type": "markdown",
   "metadata": {},
   "source": [
    "Entering and formating the Data"
   ]
  },
  {
   "cell_type": "code",
   "execution_count": 3,
   "metadata": {},
   "outputs": [],
   "source": [
    "dataset_grades_acceptance = np.array([[34.62365962451697,78.0246928153624,0],\n",
    "[30.28671076822607,43.89499752400101,0],\n",
    "[35.84740876993872,72.90219802708364,0],\n",
    "[60.18259938620976,86.30855209546826,1],\n",
    "[79.0327360507101,75.3443764369103,1],\n",
    "[45.08327747668339,56.3163717815305,0],\n",
    "[61.10666453684766,96.51142588489624,1],\n",
    "[75.02474556738889,46.55401354116538,1],\n",
    "[76.09878670226257,87.42056971926803,1],\n",
    "[84.43281996120035,43.53339331072109,1],\n",
    "[95.86155507093572,38.22527805795094,0],\n",
    "[75.01365838958247,30.60326323428011,0],\n",
    "[82.30705337399482,76.48196330235604,1],\n",
    "[69.36458875970939,97.71869196188608,1],\n",
    "[39.53833914367223,76.03681085115882,0],\n",
    "[53.9710521485623,89.20735013750205,1],\n",
    "[69.07014406283025,52.74046973016765,1],\n",
    "[67.94685547711617,46.67857410673128,0],\n",
    "[70.66150955499435,92.92713789364831,1],\n",
    "[76.97878372747498,47.57596364975532,1],\n",
    "[67.37202754570876,42.83843832029179,0],\n",
    "[89.67677575072079,65.79936592745237,1],\n",
    "[50.534788289883,48.85581152764205,0],\n",
    "[34.21206097786789,44.20952859866288,0],\n",
    "[77.9240914545704,68.9723599933059,1],\n",
    "[62.27101367004632,69.95445795447587,1],\n",
    "[80.1901807509566,44.82162893218353,1],\n",
    "[93.114388797442,38.80067033713209,0],\n",
    "[61.83020602312595,50.25610789244621,0],\n",
    "[38.78580379679423,64.99568095539578,0],\n",
    "[61.379289447425,72.80788731317097,1],\n",
    "[85.40451939411645,57.05198397627122,1],\n",
    "[52.10797973193984,63.12762376881715,0],\n",
    "[52.04540476831827,69.43286012045222,1],\n",
    "[40.23689373545111,71.16774802184875,0],\n",
    "[54.63510555424817,52.21388588061123,0],\n",
    "[33.91550010906887,98.86943574220611,0],\n",
    "[64.17698887494485,80.90806058670817,1],\n",
    "[74.78925295941542,41.57341522824434,0],\n",
    "[34.1836400264419,75.2377203360134,0],\n",
    "[83.90239366249155,56.30804621605327,1],\n",
    "[51.54772026906181,46.85629026349976,0],\n",
    "[94.44336776917852,65.56892160559052,1],\n",
    "[82.36875375713919,40.61825515970618,0],\n",
    "[51.04775177128865,45.82270145776001,0],\n",
    "[62.22267576120188,52.06099194836679,0],\n",
    "[77.19303492601364,70.45820000180959,1],\n",
    "[97.77159928000232,86.7278223300282,1],\n",
    "[62.07306379667647,96.76882412413983,1],\n",
    "[91.56497449807442,88.69629254546599,1],\n",
    "[79.94481794066932,74.16311935043758,1],\n",
    "[99.2725269292572,60.99903099844988,1],\n",
    "[90.54671411399852,43.39060180650027,1],\n",
    "[34.52451385320009,60.39634245837173,0],\n",
    "[50.2864961189907,49.80453881323059,0],\n",
    "[49.58667721632031,59.80895099453265,0],\n",
    "[97.64563396007767,68.86157272420604,1],\n",
    "[32.57720016809309,95.59854761387875,0],\n",
    "[74.24869136721598,69.82457122657193,1],\n",
    "[71.79646205863379,78.45356224515052,1],\n",
    "[75.3956114656803,85.75993667331619,1],\n",
    "[35.28611281526193,47.02051394723416,0],\n",
    "[56.25381749711624,39.26147251058019,0],\n",
    "[30.05882244669796,49.59297386723685,0],\n",
    "[44.66826172480893,66.45008614558913,0],\n",
    "[66.56089447242954,41.09209807936973,0],\n",
    "[40.45755098375164,97.53518548909936,1],\n",
    "[49.07256321908844,51.88321182073966,0],\n",
    "[80.27957401466998,92.11606081344084,1],\n",
    "[66.74671856944039,60.99139402740988,1],\n",
    "[32.72283304060323,43.30717306430063,0],\n",
    "[64.0393204150601,78.03168802018232,1],\n",
    "[72.34649422579923,96.22759296761404,1],\n",
    "[60.45788573918959,73.09499809758037,1],\n",
    "[58.84095621726802,75.85844831279042,1],\n",
    "[99.82785779692128,72.36925193383885,1],\n",
    "[47.26426910848174,88.47586499559782,1],\n",
    "[50.45815980285988,75.80985952982456,1],\n",
    "[60.45555629271532,42.50840943572217,0],\n",
    "[82.22666157785568,42.71987853716458,0],\n",
    "[88.9138964166533,69.80378889835472,1],\n",
    "[94.83450672430196,45.69430680250754,1],\n",
    "[67.31925746917527,66.58935317747915,1],\n",
    "[57.23870631569862,59.51428198012956,1],\n",
    "[80.36675600171273,90.96014789746954,1],\n",
    "[68.46852178591112,85.59430710452014,1],\n",
    "[42.0754545384731,78.84478600148043,0],\n",
    "[75.47770200533905,90.42453899753964,1],\n",
    "[78.63542434898018,96.64742716885644,1],\n",
    "[52.34800398794107,60.76950525602592,0],\n",
    "[94.09433112516793,77.15910509073893,1],\n",
    "[90.44855097096364,87.50879176484702,1],\n",
    "[55.48216114069585,35.57070347228866,0],\n",
    "[74.49269241843041,84.84513684930135,1],\n",
    "[89.84580670720979,45.35828361091658,1],\n",
    "[83.48916274498238,48.38028579728175,1],\n",
    "[42.2617008099817,87.10385094025457,1],\n",
    "[99.31500880510394,68.77540947206617,1],\n",
    "[55.34001756003703,64.9319380069486,1],\n",
    "[74.77589300092767,89.52981289513276,1]])\n",
    "\n",
    "dataset_grades_acceptance, columns_mean, columns_std = data_normalization(dataset_grades_acceptance) #Normalizing the data and recording the mean and standart deviating for each column\n",
    "dataset_grades_acceptance = np.insert(dataset_grades_acceptance, 0, 1, axis = 1) #Add a column of ones to the dataset\n",
    "x = dataset_grades_acceptance[0:,0:3]\n",
    "y = dataset_grades_acceptance[0:,3:4]"
   ]
  },
  {
   "cell_type": "markdown",
   "metadata": {},
   "source": [
    "Plotting the Data"
   ]
  },
  {
   "cell_type": "code",
   "execution_count": 4,
   "metadata": {},
   "outputs": [
    {
     "data": {
      "image/png": "[encoded data removed]",
      "text/plain": [
       "<Figure size 432x288 with 1 Axes>"
      ]
     },
     "metadata": {
      "needs_background": "light"
     },
     "output_type": "display_data"
    }
   ],
   "source": [
    "grade1_admitted = np.array([linha for linha in dataset_grades_acceptance if linha[3] == 1])[0:,1:2]\n",
    "grade2_admitted = np.array([linha for linha in dataset_grades_acceptance if linha[3] == 1])[0:,2:3]\n",
    "\n",
    "grade1_not_admitted = np.array([linha for linha in dataset_grades_acceptance if linha[3] == 0])[0:,1:2]\n",
    "grade2_not_admitted = np.array([linha for linha in dataset_grades_acceptance if linha[3] == 0])[0:,2:3]\n",
    "\n",
    "plt.scatter(grade1_admitted,grade2_admitted, marker = '+',color = 'black')\n",
    "plt.scatter(grade1_not_admitted,grade2_not_admitted, color = 'y')\n",
    "plt.legend(['Admitted','Not admitted'],loc = 1)\n",
    "\n",
    "plt.xlabel(\"Exam 1 score\")\n",
    "plt.ylabel(\"Exam 2 score\")\n",
    "plt.title(\"Figure 1: Scatter plot of training data\")\n",
    "\n",
    "plt.show()"
   ]
  },
  {
   "cell_type": "markdown",
   "metadata": {},
   "source": [
    "Creating the Sigmoid Function, the Cost Function and Linear Gradient Discent function for more than one variable"
   ]
  },
  {
   "cell_type": "code",
   "execution_count": 5,
   "metadata": {},
   "outputs": [],
   "source": [
    "def computes_sigmoid_function (z):\n",
    "    sigmoid_function = 1 / (1 + np.exp(-z))\n",
    "    return sigmoid_function\n",
    "    \n",
    "def computes_cost_function (x, y, theta):\n",
    "    m = len(x)\n",
    "\n",
    "    predicted_y = computes_sigmoid_function(np.matmul(x, theta))\n",
    "    \n",
    "    cost_function = (1/ m) * ((-y).T.dot(np.log(predicted_y)) - (1 - y).T.dot(np.log(1 - predicted_y)))\n",
    "    return cost_function[0][0]\n",
    "\n",
    "def computes_linear_gradient_discent (x, y, theta, iterations, alpha):\n",
    "    m = len(x)\n",
    "    cost_function = []\n",
    "\n",
    "    for _ in range(iterations):\n",
    "        \n",
    "        predicted_y = computes_sigmoid_function(np.matmul(x, theta))\n",
    "        theta[0][0] = theta[0][0] - alpha * (1 / m) * np.sum(predicted_y - y)\n",
    "        \n",
    "        for i in range(1,len(theta)):\n",
    "            theta[i][0] = theta[i][0] - alpha * (1 / m) * x[0:,i:(1+i)].T.dot(predicted_y - y)\n",
    "        cost_function.append(computes_cost_function(x, y, theta))\n",
    "\n",
    "    return theta, cost_function"
   ]
  },
  {
   "cell_type": "markdown",
   "metadata": {},
   "source": [
    "Calculating Theta and plotting the Cost Funtion over the iterations"
   ]
  },
  {
   "cell_type": "code",
   "execution_count": 6,
   "metadata": {},
   "outputs": [
    {
     "data": {
      "text/plain": [
       "[<matplotlib.lines.Line2D at 0x1184c940>]"
      ]
     },
     "execution_count": 6,
     "metadata": {},
     "output_type": "execute_result"
    },
    {
     "data": {
      "image/png": "[encoded data removed]",
      "text/plain": [
       "<Figure size 432x288 with 1 Axes>"
      ]
     },
     "metadata": {
      "needs_background": "light"
     },
     "output_type": "display_data"
    }
   ],
   "source": [
    "iterations =3000\n",
    "alpha = 1\n",
    "theta = np.zeros((3,1))\n",
    "\n",
    "theta, cost_function = computes_linear_gradient_discent(x, y, theta, iterations, alpha)\n",
    "\n",
    "plt.plot(cost_function)"
   ]
  },
  {
   "cell_type": "markdown",
   "metadata": {},
   "source": [
    "Plotting our final prediction"
   ]
  },
  {
   "cell_type": "code",
   "execution_count": 7,
   "metadata": {},
   "outputs": [
    {
     "data": {
      "image/png": "[encoded data removed]",
      "text/plain": [
       "<Figure size 432x288 with 1 Axes>"
      ]
     },
     "metadata": {
      "needs_background": "light"
     },
     "output_type": "display_data"
    }
   ],
   "source": [
    "#Defining two points to plot our decision boundary\n",
    "x_final_prediction = []\n",
    "y_final_prediction = [theta[0][0], theta[0][0]]\n",
    "\n",
    "min = np.min(x[:,1])\n",
    "max = np.max(x[:,1])\n",
    "x_final_prediction.append(min)\n",
    "x_final_prediction.append(max)\n",
    "\n",
    "y_final_prediction[0] = -((y_final_prediction[0] + x_final_prediction[0] * theta[1][0])/theta[2][0])\n",
    "y_final_prediction[1] = -((y_final_prediction[1] + x_final_prediction[1] * theta[1][0])/theta[2][0])\n",
    "\n",
    "#Ploting ou data and our decision boundary\n",
    "grade1_admitted = np.array([linha for linha in dataset_grades_acceptance if linha[3] == 1])[0:,1:2]\n",
    "grade2_admitted = np.array([linha for linha in dataset_grades_acceptance if linha[3] == 1])[0:,2:3]\n",
    "\n",
    "grade1_not_admitted = np.array([linha for linha in dataset_grades_acceptance if linha[3] == 0])[0:,1:2]\n",
    "grade2_not_admitted = np.array([linha for linha in dataset_grades_acceptance if linha[3] == 0])[0:,2:3]\n",
    "\n",
    "plt.scatter(grade1_admitted,grade2_admitted, marker = '+',color = 'black')\n",
    "plt.scatter(grade1_not_admitted,grade2_not_admitted, color = 'y')\n",
    "plt.plot(x_final_prediction,y_final_prediction, 'r')\n",
    "plt.legend(['Admitted','Not admitted'],loc = 1)\n",
    "\n",
    "plt.xlabel(\"Exam 1 score\")\n",
    "plt.ylabel(\"Exam 2 score\")\n",
    "plt.title(\"Figure 1: Scatter plot of training data\")\n",
    "\n",
    "plt.show()"
   ]
  }
 ],
 "metadata": {
  "interpreter": {
   "hash": "a23c8859640bc1fbc613091da76fbf96a069fd467f295e7bb8213e839167d67d"
  },
  "kernelspec": {
   "display_name": "Python 3.8.10 64-bit",
   "language": "python",
   "name": "python3"
  },
  "language_info": {
   "codemirror_mode": {
    "name": "ipython",
    "version": 3
   },
   "file_extension": ".py",
   "mimetype": "text/x-python",
   "name": "python",
   "nbconvert_exporter": "python",
   "pygments_lexer": "ipython3",
   "version": "3.8.10"
  },
  "orig_nbformat": 4
 },
 "nbformat": 4,
 "nbformat_minor": 2
}
